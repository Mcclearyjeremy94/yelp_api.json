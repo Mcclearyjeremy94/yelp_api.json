{
 "cells": [
  {
   "cell_type": "code",
   "execution_count": 3,
   "id": "39a16df8",
   "metadata": {},
   "outputs": [],
   "source": [
    "# Standard Imports\n",
    "import numpy as np\n",
    "import pandas as pd\n",
    "import matplotlib.pyplot as plt\n",
    "import seaborn as sns\n",
    "# Additional Imports\n",
    "import os, json, math, time\n",
    "from yelpapi import YelpAPI\n",
    "from tqdm.notebook import tqdm_notebook\n"
   ]
  },
  {
   "cell_type": "code",
   "execution_count": 6,
   "id": "978c0ca8",
   "metadata": {},
   "outputs": [],
   "source": [
    "# Load API Credentials\n",
    "with open('/Users/alisonwilliams/Documents/.secret/yelp_api.json') as f:   #use your path here!\n",
    "    login = json.load(f)\n",
    "# Instantiate YelpAPI Variable\n",
    "yelp_api = YelpAPI(login['api-key'], timeout_s=5.0)"
   ]
  },
  {
   "cell_type": "code",
   "execution_count": 15,
   "id": "1dc914b3",
   "metadata": {},
   "outputs": [],
   "source": [
    "# set our API call parameters \n",
    "LOCATION = 'Seattle'\n",
    "TERM = 'Sushi'"
   ]
  },
  {
   "cell_type": "code",
   "execution_count": 16,
   "id": "a88aa301",
   "metadata": {},
   "outputs": [
    {
     "data": {
      "text/plain": [
       "'Data/results_in_progress_wa_sushi.json'"
      ]
     },
     "execution_count": 16,
     "metadata": {},
     "output_type": "execute_result"
    }
   ],
   "source": [
    "# Specifying JSON_FILE filename (can include a folder)\n",
    "# include the search terms in the filename\n",
    "JSON_FILE_sushi = \"Data/results_in_progress_wa_sushi.json\"\n",
    "JSON_FILE_sushi"
   ]
  },
  {
   "cell_type": "code",
   "execution_count": 17,
   "id": "0f8384e4",
   "metadata": {},
   "outputs": [
    {
     "name": "stdout",
     "output_type": "stream",
     "text": [
      "[i] Data/results_in_progress_wa_sushi.json already exists.\n"
     ]
    }
   ],
   "source": [
    "## Check if JSON_FILE exists\n",
    "file_exists = os.path.isfile(JSON_FILE_sushi)\n",
    "## If it does not exist: \n",
    "if file_exists == False:\n",
    "    \n",
    "    ## CREATE ANY NEEDED FOLDERS\n",
    "    # Get the Folder Name only\n",
    "    folder = os.path.dirname(JSON_FILE_sushi)\n",
    "    ## If JSON_FILE included a folder:\n",
    "    if len(folder)>0:\n",
    "        # create the folder\n",
    "        os.makedirs(folder,exist_ok=True)\n",
    "        \n",
    "        \n",
    "    ## INFORM USER AND SAVE EMPTY LIST\n",
    "    print(f'[i] {JSON_FILE_sushi} not found. Saving empty list to file.')\n",
    "    \n",
    "    \n",
    "    # save an empty list\n",
    "    with open(JSON_FILE_sushi,'w') as f:\n",
    "        json.dump([],f)  \n",
    "# If it exists, inform user\n",
    "else:\n",
    "    print(f\"[i] {JSON_FILE_sushi} already exists.\")"
   ]
  },
  {
   "cell_type": "code",
   "execution_count": 18,
   "id": "abac35bf",
   "metadata": {},
   "outputs": [
    {
     "name": "stdout",
     "output_type": "stream",
     "text": [
      "- 0 previous results found.\n"
     ]
    }
   ],
   "source": [
    "## Load previous results and use len of results for offset\n",
    "with open(JSON_FILE_sushi,'r') as f:\n",
    "    previous_results = json.load(f)\n",
    "    \n",
    "## set offset based on previous results\n",
    "n_results = len(previous_results)\n",
    "print(f'- {n_results} previous results found.')"
   ]
  },
  {
   "cell_type": "code",
   "execution_count": 19,
   "id": "1bd57924",
   "metadata": {},
   "outputs": [
    {
     "data": {
      "text/plain": [
       "dict_keys(['businesses', 'total', 'region'])"
      ]
     },
     "execution_count": 19,
     "metadata": {},
     "output_type": "execute_result"
    }
   ],
   "source": [
    "# use our yelp_api variable's search_query method to perform our API call\n",
    "results = yelp_api.search_query(location=LOCATION,\n",
    "                                term=TERM,\n",
    "                               offset=n_results)\n",
    "results.keys()"
   ]
  },
  {
   "cell_type": "code",
   "execution_count": 20,
   "id": "21c4f478",
   "metadata": {},
   "outputs": [
    {
     "data": {
      "text/plain": [
       "884"
      ]
     },
     "execution_count": 20,
     "metadata": {},
     "output_type": "execute_result"
    }
   ],
   "source": [
    "## How many results total?\n",
    "total_results = results['total']\n",
    "total_results"
   ]
  },
  {
   "cell_type": "code",
   "execution_count": 21,
   "id": "e3134cc7",
   "metadata": {},
   "outputs": [
    {
     "data": {
      "text/plain": [
       "20"
      ]
     },
     "execution_count": 21,
     "metadata": {},
     "output_type": "execute_result"
    }
   ],
   "source": [
    "## How many did we get the details for?\n",
    "results_per_page = len(results['businesses'])\n",
    "results_per_page\n"
   ]
  },
  {
   "cell_type": "code",
   "execution_count": 22,
   "id": "4e09dffc",
   "metadata": {},
   "outputs": [
    {
     "data": {
      "text/plain": [
       "45"
      ]
     },
     "execution_count": 22,
     "metadata": {},
     "output_type": "execute_result"
    }
   ],
   "source": [
    "# Import additional packages for controlling our loop\n",
    "import time, math\n",
    "# Use math.ceil to round up for the total number of pages of results.\n",
    "n_pages = math.ceil((results['total']-n_results)/ results_per_page)\n",
    "n_pages"
   ]
  },
  {
   "cell_type": "code",
   "execution_count": 24,
   "id": "edcb6608",
   "metadata": {},
   "outputs": [],
   "source": [
    "# join new results with old list with extend and save to file\n",
    "previous_results.extend(results['businesses'])  \n",
    "with open(JSON_FILE_sushi,'w') as f:\n",
    "     json.dump(previous_results,f)"
   ]
  },
  {
   "cell_type": "code",
   "execution_count": 25,
   "id": "75d3f90c",
   "metadata": {},
   "outputs": [
    {
     "data": {
      "application/vnd.jupyter.widget-view+json": {
       "model_id": "54469385103e478ea53c74af47ae7689",
       "version_major": 2,
       "version_minor": 0
      },
      "text/plain": [
       "  0%|          | 0/45 [00:00<?, ?it/s]"
      ]
     },
     "metadata": {},
     "output_type": "display_data"
    }
   ],
   "source": [
    "from tqdm.notebook import tqdm_notebook\n",
    "import time\n",
    "for i in tqdm_notebook(range(n_pages)):\n",
    "    # adds 200 ms pause\n",
    "    time.sleep(.2) "
   ]
  },
  {
   "cell_type": "code",
   "execution_count": 29,
   "id": "e55e14ee",
   "metadata": {},
   "outputs": [
    {
     "data": {
      "application/vnd.jupyter.widget-view+json": {
       "model_id": "b21359ec13fe4dc185d8588924b829ce",
       "version_major": 2,
       "version_minor": 0
      },
      "text/plain": [
       "  0%|          | 0/45 [00:00<?, ?it/s]"
      ]
     },
     "metadata": {},
     "output_type": "display_data"
    }
   ],
   "source": [
    "for i in tqdm_notebook( range(1,n_pages+1)):\n",
    "    \n",
    "    ## Read in results in progress file and check the length\n",
    "    with open(JSON_FILE_sushi, 'r') as f:\n",
    "        previous_results = json.load(f)\n",
    "    ## save number of results for to use as offset\n",
    "    n_results = len(previous_results)\n",
    "    ## use n_results as the OFFSET \n",
    "    results = yelp_api.search_query(location=LOCATION,\n",
    "                                    term=TERM, \n",
    "                                    offset=n_results)\n",
    "    \n",
    "    ## append new results and save to file\n",
    "    previous_results.extend(results['businesses'])\n",
    "    \n",
    "    with open(JSON_FILE_sushi,'w') as f:\n",
    "        json.dump(previous_results,f)\n",
    "    \n",
    "    # add a 200ms pause\n",
    "    time.sleep(.2)"
   ]
  },
  {
   "cell_type": "code",
   "execution_count": 30,
   "id": "f325c642",
   "metadata": {},
   "outputs": [
    {
     "data": {
      "application/vnd.jupyter.widget-view+json": {
       "model_id": "c0a813858b2b43388765a1b5767f0ced",
       "version_major": 2,
       "version_minor": 0
      },
      "text/plain": [
       "  0%|          | 0/45 [00:00<?, ?it/s]"
      ]
     },
     "metadata": {},
     "output_type": "display_data"
    }
   ],
   "source": [
    "for i in tqdm_notebook( range(1,n_pages+1)):\n",
    "    \n",
    "    ## Read in results in progress file and check the length\n",
    "    with open(JSON_FILE_sushi, 'r') as f:\n",
    "        previous_results = json.load(f)\n",
    "    ## save number of results for to use as offset\n",
    "    n_results = len(previous_results)\n",
    "    \n",
    "    if (n_results + results_per_page) > 1000:\n",
    "        print('Exceeded 1000 api calls. Stopping loop.')\n",
    "        break\n",
    "    \n",
    "    ## use n_results as the OFFSET \n",
    "    results = yelp_api.search_query(location=LOCATION,\n",
    "                                    term=TERM, \n",
    "                                    offset=n_results)\n",
    "    \n",
    "    \n",
    "    \n",
    "    ## append new results and save to file\n",
    "    previous_results.extend(results['businesses'])\n",
    "    \n",
    "    # display(previous_results)\n",
    "    with open(JSON_FILE_sushi,'w') as f:\n",
    "        json.dump(previous_results,f)\n",
    "    \n",
    "    time.sleep(.2)"
   ]
  },
  {
   "cell_type": "code",
   "execution_count": 31,
   "id": "06c933d8",
   "metadata": {},
   "outputs": [
    {
     "data": {
      "text/html": [
       "<div>\n",
       "<style scoped>\n",
       "    .dataframe tbody tr th:only-of-type {\n",
       "        vertical-align: middle;\n",
       "    }\n",
       "\n",
       "    .dataframe tbody tr th {\n",
       "        vertical-align: top;\n",
       "    }\n",
       "\n",
       "    .dataframe thead th {\n",
       "        text-align: right;\n",
       "    }\n",
       "</style>\n",
       "<table border=\"1\" class=\"dataframe\">\n",
       "  <thead>\n",
       "    <tr style=\"text-align: right;\">\n",
       "      <th></th>\n",
       "      <th>id</th>\n",
       "      <th>alias</th>\n",
       "      <th>name</th>\n",
       "      <th>image_url</th>\n",
       "      <th>is_closed</th>\n",
       "      <th>url</th>\n",
       "      <th>review_count</th>\n",
       "      <th>categories</th>\n",
       "      <th>rating</th>\n",
       "      <th>coordinates</th>\n",
       "      <th>transactions</th>\n",
       "      <th>price</th>\n",
       "      <th>location</th>\n",
       "      <th>phone</th>\n",
       "      <th>display_phone</th>\n",
       "      <th>distance</th>\n",
       "    </tr>\n",
       "  </thead>\n",
       "  <tbody>\n",
       "    <tr>\n",
       "      <th>0</th>\n",
       "      <td>YSQiqH7RIWORk_Qp-A4SOg</td>\n",
       "      <td>shiros-seattle</td>\n",
       "      <td>Shiro's</td>\n",
       "      <td>https://s3-media1.fl.yelpcdn.com/bphoto/82qOHj...</td>\n",
       "      <td>False</td>\n",
       "      <td>https://www.yelp.com/biz/shiros-seattle?adjust...</td>\n",
       "      <td>2482</td>\n",
       "      <td>[{'alias': 'sushi', 'title': 'Sushi Bars'}, {'...</td>\n",
       "      <td>4.5</td>\n",
       "      <td>{'latitude': 47.6147782162181, 'longitude': -1...</td>\n",
       "      <td>[delivery, pickup]</td>\n",
       "      <td>$$$$</td>\n",
       "      <td>{'address1': '2401 2nd Ave', 'address2': '', '...</td>\n",
       "      <td>+12064439844</td>\n",
       "      <td>(206) 443-9844</td>\n",
       "      <td>1298.562261</td>\n",
       "    </tr>\n",
       "    <tr>\n",
       "      <th>1</th>\n",
       "      <td>3hxncVCRPfmKLOyiXKXbDw</td>\n",
       "      <td>sushi-kashiba-seattle</td>\n",
       "      <td>Sushi Kashiba</td>\n",
       "      <td>https://s3-media3.fl.yelpcdn.com/bphoto/vJlqSj...</td>\n",
       "      <td>False</td>\n",
       "      <td>https://www.yelp.com/biz/sushi-kashiba-seattle...</td>\n",
       "      <td>1308</td>\n",
       "      <td>[{'alias': 'japanese', 'title': 'Japanese'}, {...</td>\n",
       "      <td>4.5</td>\n",
       "      <td>{'latitude': 47.6099251, 'longitude': -122.341...</td>\n",
       "      <td>[delivery]</td>\n",
       "      <td>$$$$</td>\n",
       "      <td>{'address1': '86 Pine St', 'address2': 'Ste 1'...</td>\n",
       "      <td>+12064418844</td>\n",
       "      <td>(206) 441-8844</td>\n",
       "      <td>992.223566</td>\n",
       "    </tr>\n",
       "    <tr>\n",
       "      <th>2</th>\n",
       "      <td>vs5dhED5Yf8kqPp06OD2QQ</td>\n",
       "      <td>momiji-seattle</td>\n",
       "      <td>Momiji</td>\n",
       "      <td>https://s3-media3.fl.yelpcdn.com/bphoto/ahKa5Z...</td>\n",
       "      <td>False</td>\n",
       "      <td>https://www.yelp.com/biz/momiji-seattle?adjust...</td>\n",
       "      <td>1708</td>\n",
       "      <td>[{'alias': 'japanese', 'title': 'Japanese'}, {...</td>\n",
       "      <td>4.0</td>\n",
       "      <td>{'latitude': 47.61482, 'longitude': -122.31657}</td>\n",
       "      <td>[delivery]</td>\n",
       "      <td>$$</td>\n",
       "      <td>{'address1': '1522 12th Ave', 'address2': '', ...</td>\n",
       "      <td>+12064574068</td>\n",
       "      <td>(206) 457-4068</td>\n",
       "      <td>1015.019475</td>\n",
       "    </tr>\n",
       "    <tr>\n",
       "      <th>3</th>\n",
       "      <td>L8RRAd-JZ0Bd4MER0yyX-g</td>\n",
       "      <td>japonessa-sushi-cocina-seattle</td>\n",
       "      <td>Japonessa Sushi Cocina</td>\n",
       "      <td>https://s3-media3.fl.yelpcdn.com/bphoto/vucCrk...</td>\n",
       "      <td>False</td>\n",
       "      <td>https://www.yelp.com/biz/japonessa-sushi-cocin...</td>\n",
       "      <td>5130</td>\n",
       "      <td>[{'alias': 'japanese', 'title': 'Japanese'}, {...</td>\n",
       "      <td>4.0</td>\n",
       "      <td>{'latitude': 47.6079793649921, 'longitude': -1...</td>\n",
       "      <td>[delivery]</td>\n",
       "      <td>$$</td>\n",
       "      <td>{'address1': '1400 1st Ave', 'address2': '', '...</td>\n",
       "      <td>+12069717979</td>\n",
       "      <td>(206) 971-7979</td>\n",
       "      <td>976.440057</td>\n",
       "    </tr>\n",
       "    <tr>\n",
       "      <th>4</th>\n",
       "      <td>dkZiHbwggWsB3QSQhy2New</td>\n",
       "      <td>rondo-seattle-2</td>\n",
       "      <td>Rondo</td>\n",
       "      <td>https://s3-media2.fl.yelpcdn.com/bphoto/8IgsAS...</td>\n",
       "      <td>False</td>\n",
       "      <td>https://www.yelp.com/biz/rondo-seattle-2?adjus...</td>\n",
       "      <td>393</td>\n",
       "      <td>[{'alias': 'sushi', 'title': 'Sushi Bars'}, {'...</td>\n",
       "      <td>4.5</td>\n",
       "      <td>{'latitude': 47.62082, 'longitude': -122.32066}</td>\n",
       "      <td>[delivery, pickup]</td>\n",
       "      <td>$$</td>\n",
       "      <td>{'address1': '224 Broadway E', 'address2': '',...</td>\n",
       "      <td>+12065882051</td>\n",
       "      <td>(206) 588-2051</td>\n",
       "      <td>998.325547</td>\n",
       "    </tr>\n",
       "  </tbody>\n",
       "</table>\n",
       "</div>"
      ],
      "text/plain": [
       "                       id                           alias  \\\n",
       "0  YSQiqH7RIWORk_Qp-A4SOg                  shiros-seattle   \n",
       "1  3hxncVCRPfmKLOyiXKXbDw           sushi-kashiba-seattle   \n",
       "2  vs5dhED5Yf8kqPp06OD2QQ                  momiji-seattle   \n",
       "3  L8RRAd-JZ0Bd4MER0yyX-g  japonessa-sushi-cocina-seattle   \n",
       "4  dkZiHbwggWsB3QSQhy2New                 rondo-seattle-2   \n",
       "\n",
       "                     name                                          image_url  \\\n",
       "0                 Shiro's  https://s3-media1.fl.yelpcdn.com/bphoto/82qOHj...   \n",
       "1           Sushi Kashiba  https://s3-media3.fl.yelpcdn.com/bphoto/vJlqSj...   \n",
       "2                  Momiji  https://s3-media3.fl.yelpcdn.com/bphoto/ahKa5Z...   \n",
       "3  Japonessa Sushi Cocina  https://s3-media3.fl.yelpcdn.com/bphoto/vucCrk...   \n",
       "4                   Rondo  https://s3-media2.fl.yelpcdn.com/bphoto/8IgsAS...   \n",
       "\n",
       "   is_closed                                                url  review_count  \\\n",
       "0      False  https://www.yelp.com/biz/shiros-seattle?adjust...          2482   \n",
       "1      False  https://www.yelp.com/biz/sushi-kashiba-seattle...          1308   \n",
       "2      False  https://www.yelp.com/biz/momiji-seattle?adjust...          1708   \n",
       "3      False  https://www.yelp.com/biz/japonessa-sushi-cocin...          5130   \n",
       "4      False  https://www.yelp.com/biz/rondo-seattle-2?adjus...           393   \n",
       "\n",
       "                                          categories  rating  \\\n",
       "0  [{'alias': 'sushi', 'title': 'Sushi Bars'}, {'...     4.5   \n",
       "1  [{'alias': 'japanese', 'title': 'Japanese'}, {...     4.5   \n",
       "2  [{'alias': 'japanese', 'title': 'Japanese'}, {...     4.0   \n",
       "3  [{'alias': 'japanese', 'title': 'Japanese'}, {...     4.0   \n",
       "4  [{'alias': 'sushi', 'title': 'Sushi Bars'}, {'...     4.5   \n",
       "\n",
       "                                         coordinates        transactions  \\\n",
       "0  {'latitude': 47.6147782162181, 'longitude': -1...  [delivery, pickup]   \n",
       "1  {'latitude': 47.6099251, 'longitude': -122.341...          [delivery]   \n",
       "2    {'latitude': 47.61482, 'longitude': -122.31657}          [delivery]   \n",
       "3  {'latitude': 47.6079793649921, 'longitude': -1...          [delivery]   \n",
       "4    {'latitude': 47.62082, 'longitude': -122.32066}  [delivery, pickup]   \n",
       "\n",
       "  price                                           location         phone  \\\n",
       "0  $$$$  {'address1': '2401 2nd Ave', 'address2': '', '...  +12064439844   \n",
       "1  $$$$  {'address1': '86 Pine St', 'address2': 'Ste 1'...  +12064418844   \n",
       "2    $$  {'address1': '1522 12th Ave', 'address2': '', ...  +12064574068   \n",
       "3    $$  {'address1': '1400 1st Ave', 'address2': '', '...  +12069717979   \n",
       "4    $$  {'address1': '224 Broadway E', 'address2': '',...  +12065882051   \n",
       "\n",
       "    display_phone     distance  \n",
       "0  (206) 443-9844  1298.562261  \n",
       "1  (206) 441-8844   992.223566  \n",
       "2  (206) 457-4068  1015.019475  \n",
       "3  (206) 971-7979   976.440057  \n",
       "4  (206) 588-2051   998.325547  "
      ]
     },
     "metadata": {},
     "output_type": "display_data"
    },
    {
     "data": {
      "text/html": [
       "<div>\n",
       "<style scoped>\n",
       "    .dataframe tbody tr th:only-of-type {\n",
       "        vertical-align: middle;\n",
       "    }\n",
       "\n",
       "    .dataframe tbody tr th {\n",
       "        vertical-align: top;\n",
       "    }\n",
       "\n",
       "    .dataframe thead th {\n",
       "        text-align: right;\n",
       "    }\n",
       "</style>\n",
       "<table border=\"1\" class=\"dataframe\">\n",
       "  <thead>\n",
       "    <tr style=\"text-align: right;\">\n",
       "      <th></th>\n",
       "      <th>id</th>\n",
       "      <th>alias</th>\n",
       "      <th>name</th>\n",
       "      <th>image_url</th>\n",
       "      <th>is_closed</th>\n",
       "      <th>url</th>\n",
       "      <th>review_count</th>\n",
       "      <th>categories</th>\n",
       "      <th>rating</th>\n",
       "      <th>coordinates</th>\n",
       "      <th>transactions</th>\n",
       "      <th>price</th>\n",
       "      <th>location</th>\n",
       "      <th>phone</th>\n",
       "      <th>display_phone</th>\n",
       "      <th>distance</th>\n",
       "    </tr>\n",
       "  </thead>\n",
       "  <tbody>\n",
       "    <tr>\n",
       "      <th>879</th>\n",
       "      <td>xDmeu1Am5zz2oE3Y-ZHHmA</td>\n",
       "      <td>the-cheesecake-factory-lynnwood-6</td>\n",
       "      <td>The Cheesecake Factory</td>\n",
       "      <td>https://s3-media2.fl.yelpcdn.com/bphoto/faMPG8...</td>\n",
       "      <td>False</td>\n",
       "      <td>https://www.yelp.com/biz/the-cheesecake-factor...</td>\n",
       "      <td>591</td>\n",
       "      <td>[{'alias': 'desserts', 'title': 'Desserts'}, {...</td>\n",
       "      <td>2.5</td>\n",
       "      <td>{'latitude': 47.8276689, 'longitude': -122.274...</td>\n",
       "      <td>[restaurant_reservation]</td>\n",
       "      <td>$$</td>\n",
       "      <td>{'address1': '3000 184th St SW', 'address2': '...</td>\n",
       "      <td>+14254121376</td>\n",
       "      <td>(425) 412-1376</td>\n",
       "      <td>24089.648050</td>\n",
       "    </tr>\n",
       "    <tr>\n",
       "      <th>880</th>\n",
       "      <td>doxuwEk585gQHk_9My8tPQ</td>\n",
       "      <td>safeway-lynnwood-5</td>\n",
       "      <td>Safeway</td>\n",
       "      <td>https://s3-media2.fl.yelpcdn.com/bphoto/a3AglC...</td>\n",
       "      <td>False</td>\n",
       "      <td>https://www.yelp.com/biz/safeway-lynnwood-5?ad...</td>\n",
       "      <td>10</td>\n",
       "      <td>[{'alias': 'grocery', 'title': 'Grocery'}]</td>\n",
       "      <td>2.5</td>\n",
       "      <td>{'latitude': 47.8811291, 'longitude': -122.280...</td>\n",
       "      <td>[]</td>\n",
       "      <td>NaN</td>\n",
       "      <td>{'address1': '12811 Beverly Park Rd', 'address...</td>\n",
       "      <td>+14253473060</td>\n",
       "      <td>(425) 347-3060</td>\n",
       "      <td>29895.206532</td>\n",
       "    </tr>\n",
       "    <tr>\n",
       "      <th>881</th>\n",
       "      <td>rGdo-yHqxFZLqZ_tvBEIVg</td>\n",
       "      <td>fred-meyer-lynnwood-3</td>\n",
       "      <td>Fred Meyer</td>\n",
       "      <td>https://s3-media3.fl.yelpcdn.com/bphoto/HKPXB1...</td>\n",
       "      <td>False</td>\n",
       "      <td>https://www.yelp.com/biz/fred-meyer-lynnwood-3...</td>\n",
       "      <td>105</td>\n",
       "      <td>[{'alias': 'grocery', 'title': 'Grocery'}]</td>\n",
       "      <td>3.0</td>\n",
       "      <td>{'latitude': 47.8222615152993, 'longitude': -1...</td>\n",
       "      <td>[]</td>\n",
       "      <td>$$</td>\n",
       "      <td>{'address1': '4615 196th St Sw', 'address2': '...</td>\n",
       "      <td>+14256700200</td>\n",
       "      <td>(425) 670-0200</td>\n",
       "      <td>23266.733682</td>\n",
       "    </tr>\n",
       "    <tr>\n",
       "      <th>882</th>\n",
       "      <td>Fkwrnw8NZcWAb2mbz8aXhQ</td>\n",
       "      <td>safeway-kirkland-3</td>\n",
       "      <td>Safeway</td>\n",
       "      <td>https://s3-media4.fl.yelpcdn.com/bphoto/dQeTMb...</td>\n",
       "      <td>False</td>\n",
       "      <td>https://www.yelp.com/biz/safeway-kirkland-3?ad...</td>\n",
       "      <td>64</td>\n",
       "      <td>[{'alias': 'grocery', 'title': 'Grocery'}]</td>\n",
       "      <td>2.5</td>\n",
       "      <td>{'latitude': 47.6788233, 'longitude': -122.173...</td>\n",
       "      <td>[]</td>\n",
       "      <td>$$</td>\n",
       "      <td>{'address1': '12519 NE 85th St', 'address2': '...</td>\n",
       "      <td>+14258228821</td>\n",
       "      <td>(425) 822-8821</td>\n",
       "      <td>13749.915853</td>\n",
       "    </tr>\n",
       "    <tr>\n",
       "      <th>883</th>\n",
       "      <td>7Cm7jGoBKlx29ZzSHWa8MQ</td>\n",
       "      <td>fred-meyer-kent-3</td>\n",
       "      <td>Fred Meyer</td>\n",
       "      <td>https://s3-media1.fl.yelpcdn.com/bphoto/AVh2sh...</td>\n",
       "      <td>False</td>\n",
       "      <td>https://www.yelp.com/biz/fred-meyer-kent-3?adj...</td>\n",
       "      <td>82</td>\n",
       "      <td>[{'alias': 'grocery', 'title': 'Grocery'}, {'a...</td>\n",
       "      <td>2.5</td>\n",
       "      <td>{'latitude': 47.385831, 'longitude': -122.205397}</td>\n",
       "      <td>[]</td>\n",
       "      <td>$$</td>\n",
       "      <td>{'address1': '10201 SE 240th St', 'address2': ...</td>\n",
       "      <td>+12538595500</td>\n",
       "      <td>(253) 859-5500</td>\n",
       "      <td>27075.745591</td>\n",
       "    </tr>\n",
       "  </tbody>\n",
       "</table>\n",
       "</div>"
      ],
      "text/plain": [
       "                         id                              alias  \\\n",
       "879  xDmeu1Am5zz2oE3Y-ZHHmA  the-cheesecake-factory-lynnwood-6   \n",
       "880  doxuwEk585gQHk_9My8tPQ                 safeway-lynnwood-5   \n",
       "881  rGdo-yHqxFZLqZ_tvBEIVg              fred-meyer-lynnwood-3   \n",
       "882  Fkwrnw8NZcWAb2mbz8aXhQ                 safeway-kirkland-3   \n",
       "883  7Cm7jGoBKlx29ZzSHWa8MQ                  fred-meyer-kent-3   \n",
       "\n",
       "                       name  \\\n",
       "879  The Cheesecake Factory   \n",
       "880                 Safeway   \n",
       "881              Fred Meyer   \n",
       "882                 Safeway   \n",
       "883              Fred Meyer   \n",
       "\n",
       "                                             image_url  is_closed  \\\n",
       "879  https://s3-media2.fl.yelpcdn.com/bphoto/faMPG8...      False   \n",
       "880  https://s3-media2.fl.yelpcdn.com/bphoto/a3AglC...      False   \n",
       "881  https://s3-media3.fl.yelpcdn.com/bphoto/HKPXB1...      False   \n",
       "882  https://s3-media4.fl.yelpcdn.com/bphoto/dQeTMb...      False   \n",
       "883  https://s3-media1.fl.yelpcdn.com/bphoto/AVh2sh...      False   \n",
       "\n",
       "                                                   url  review_count  \\\n",
       "879  https://www.yelp.com/biz/the-cheesecake-factor...           591   \n",
       "880  https://www.yelp.com/biz/safeway-lynnwood-5?ad...            10   \n",
       "881  https://www.yelp.com/biz/fred-meyer-lynnwood-3...           105   \n",
       "882  https://www.yelp.com/biz/safeway-kirkland-3?ad...            64   \n",
       "883  https://www.yelp.com/biz/fred-meyer-kent-3?adj...            82   \n",
       "\n",
       "                                            categories  rating  \\\n",
       "879  [{'alias': 'desserts', 'title': 'Desserts'}, {...     2.5   \n",
       "880         [{'alias': 'grocery', 'title': 'Grocery'}]     2.5   \n",
       "881         [{'alias': 'grocery', 'title': 'Grocery'}]     3.0   \n",
       "882         [{'alias': 'grocery', 'title': 'Grocery'}]     2.5   \n",
       "883  [{'alias': 'grocery', 'title': 'Grocery'}, {'a...     2.5   \n",
       "\n",
       "                                           coordinates  \\\n",
       "879  {'latitude': 47.8276689, 'longitude': -122.274...   \n",
       "880  {'latitude': 47.8811291, 'longitude': -122.280...   \n",
       "881  {'latitude': 47.8222615152993, 'longitude': -1...   \n",
       "882  {'latitude': 47.6788233, 'longitude': -122.173...   \n",
       "883  {'latitude': 47.385831, 'longitude': -122.205397}   \n",
       "\n",
       "                 transactions price  \\\n",
       "879  [restaurant_reservation]    $$   \n",
       "880                        []   NaN   \n",
       "881                        []    $$   \n",
       "882                        []    $$   \n",
       "883                        []    $$   \n",
       "\n",
       "                                              location         phone  \\\n",
       "879  {'address1': '3000 184th St SW', 'address2': '...  +14254121376   \n",
       "880  {'address1': '12811 Beverly Park Rd', 'address...  +14253473060   \n",
       "881  {'address1': '4615 196th St Sw', 'address2': '...  +14256700200   \n",
       "882  {'address1': '12519 NE 85th St', 'address2': '...  +14258228821   \n",
       "883  {'address1': '10201 SE 240th St', 'address2': ...  +12538595500   \n",
       "\n",
       "      display_phone      distance  \n",
       "879  (425) 412-1376  24089.648050  \n",
       "880  (425) 347-3060  29895.206532  \n",
       "881  (425) 670-0200  23266.733682  \n",
       "882  (425) 822-8821  13749.915853  \n",
       "883  (253) 859-5500  27075.745591  "
      ]
     },
     "metadata": {},
     "output_type": "display_data"
    }
   ],
   "source": [
    "# load final results\n",
    "final_df = pd.read_json(JSON_FILE_sushi)\n",
    "display(final_df.head(), final_df.tail())"
   ]
  },
  {
   "cell_type": "code",
   "execution_count": 32,
   "id": "913d6390",
   "metadata": {},
   "outputs": [
    {
     "ename": "TypeError",
     "evalue": "unhashable type: 'list'",
     "output_type": "error",
     "traceback": [
      "\u001b[0;31m---------------------------------------------------------------------------\u001b[0m",
      "\u001b[0;31mTypeError\u001b[0m                                 Traceback (most recent call last)",
      "Cell \u001b[0;32mIn [32], line 2\u001b[0m\n\u001b[1;32m      1\u001b[0m \u001b[38;5;66;03m# check for duplicate results\u001b[39;00m\n\u001b[0;32m----> 2\u001b[0m \u001b[43mfinal_df\u001b[49m\u001b[38;5;241;43m.\u001b[39;49m\u001b[43mduplicated\u001b[49m\u001b[43m(\u001b[49m\u001b[43m)\u001b[49m\u001b[38;5;241m.\u001b[39msum()\n",
      "File \u001b[0;32m/opt/homebrew/Caskroom/miniforge/base/envs/dojo-env/lib/python3.9/site-packages/pandas/core/frame.py:6811\u001b[0m, in \u001b[0;36mDataFrame.duplicated\u001b[0;34m(self, subset, keep)\u001b[0m\n\u001b[1;32m   6809\u001b[0m \u001b[38;5;28;01melse\u001b[39;00m:\n\u001b[1;32m   6810\u001b[0m     vals \u001b[38;5;241m=\u001b[39m (col\u001b[38;5;241m.\u001b[39mvalues \u001b[38;5;28;01mfor\u001b[39;00m name, col \u001b[38;5;129;01min\u001b[39;00m \u001b[38;5;28mself\u001b[39m\u001b[38;5;241m.\u001b[39mitems() \u001b[38;5;28;01mif\u001b[39;00m name \u001b[38;5;129;01min\u001b[39;00m subset)\n\u001b[0;32m-> 6811\u001b[0m     labels, shape \u001b[38;5;241m=\u001b[39m \u001b[38;5;28mmap\u001b[39m(\u001b[38;5;28mlist\u001b[39m, \u001b[38;5;28;43mzip\u001b[39;49m\u001b[43m(\u001b[49m\u001b[38;5;241;43m*\u001b[39;49m\u001b[38;5;28;43mmap\u001b[39;49m\u001b[43m(\u001b[49m\u001b[43mf\u001b[49m\u001b[43m,\u001b[49m\u001b[43m \u001b[49m\u001b[43mvals\u001b[49m\u001b[43m)\u001b[49m\u001b[43m)\u001b[49m)\n\u001b[1;32m   6813\u001b[0m     ids \u001b[38;5;241m=\u001b[39m get_group_index(\n\u001b[1;32m   6814\u001b[0m         labels,\n\u001b[1;32m   6815\u001b[0m         \u001b[38;5;66;03m# error: Argument 1 to \"tuple\" has incompatible type \"List[_T]\";\u001b[39;00m\n\u001b[0;32m   (...)\u001b[0m\n\u001b[1;32m   6819\u001b[0m         xnull\u001b[38;5;241m=\u001b[39m\u001b[38;5;28;01mFalse\u001b[39;00m,\n\u001b[1;32m   6820\u001b[0m     )\n\u001b[1;32m   6821\u001b[0m     result \u001b[38;5;241m=\u001b[39m \u001b[38;5;28mself\u001b[39m\u001b[38;5;241m.\u001b[39m_constructor_sliced(duplicated(ids, keep), index\u001b[38;5;241m=\u001b[39m\u001b[38;5;28mself\u001b[39m\u001b[38;5;241m.\u001b[39mindex)\n",
      "File \u001b[0;32m/opt/homebrew/Caskroom/miniforge/base/envs/dojo-env/lib/python3.9/site-packages/pandas/core/frame.py:6779\u001b[0m, in \u001b[0;36mDataFrame.duplicated.<locals>.f\u001b[0;34m(vals)\u001b[0m\n\u001b[1;32m   6778\u001b[0m \u001b[38;5;28;01mdef\u001b[39;00m \u001b[38;5;21mf\u001b[39m(vals) \u001b[38;5;241m-\u001b[39m\u001b[38;5;241m>\u001b[39m \u001b[38;5;28mtuple\u001b[39m[np\u001b[38;5;241m.\u001b[39mndarray, \u001b[38;5;28mint\u001b[39m]:\n\u001b[0;32m-> 6779\u001b[0m     labels, shape \u001b[38;5;241m=\u001b[39m \u001b[43malgorithms\u001b[49m\u001b[38;5;241;43m.\u001b[39;49m\u001b[43mfactorize\u001b[49m\u001b[43m(\u001b[49m\u001b[43mvals\u001b[49m\u001b[43m,\u001b[49m\u001b[43m \u001b[49m\u001b[43msize_hint\u001b[49m\u001b[38;5;241;43m=\u001b[39;49m\u001b[38;5;28;43mlen\u001b[39;49m\u001b[43m(\u001b[49m\u001b[38;5;28;43mself\u001b[39;49m\u001b[43m)\u001b[49m\u001b[43m)\u001b[49m\n\u001b[1;32m   6780\u001b[0m     \u001b[38;5;28;01mreturn\u001b[39;00m labels\u001b[38;5;241m.\u001b[39mastype(\u001b[38;5;124m\"\u001b[39m\u001b[38;5;124mi8\u001b[39m\u001b[38;5;124m\"\u001b[39m, copy\u001b[38;5;241m=\u001b[39m\u001b[38;5;28;01mFalse\u001b[39;00m), \u001b[38;5;28mlen\u001b[39m(shape)\n",
      "File \u001b[0;32m/opt/homebrew/Caskroom/miniforge/base/envs/dojo-env/lib/python3.9/site-packages/pandas/core/algorithms.py:818\u001b[0m, in \u001b[0;36mfactorize\u001b[0;34m(values, sort, na_sentinel, use_na_sentinel, size_hint)\u001b[0m\n\u001b[1;32m    815\u001b[0m             \u001b[38;5;66;03m# Don't modify (potentially user-provided) array\u001b[39;00m\n\u001b[1;32m    816\u001b[0m             values \u001b[38;5;241m=\u001b[39m np\u001b[38;5;241m.\u001b[39mwhere(null_mask, na_value, values)\n\u001b[0;32m--> 818\u001b[0m     codes, uniques \u001b[38;5;241m=\u001b[39m \u001b[43mfactorize_array\u001b[49m\u001b[43m(\u001b[49m\n\u001b[1;32m    819\u001b[0m \u001b[43m        \u001b[49m\u001b[43mvalues\u001b[49m\u001b[43m,\u001b[49m\n\u001b[1;32m    820\u001b[0m \u001b[43m        \u001b[49m\u001b[43mna_sentinel\u001b[49m\u001b[38;5;241;43m=\u001b[39;49m\u001b[43mna_sentinel_arg\u001b[49m\u001b[43m,\u001b[49m\n\u001b[1;32m    821\u001b[0m \u001b[43m        \u001b[49m\u001b[43msize_hint\u001b[49m\u001b[38;5;241;43m=\u001b[39;49m\u001b[43msize_hint\u001b[49m\u001b[43m,\u001b[49m\n\u001b[1;32m    822\u001b[0m \u001b[43m    \u001b[49m\u001b[43m)\u001b[49m\n\u001b[1;32m    824\u001b[0m \u001b[38;5;28;01mif\u001b[39;00m sort \u001b[38;5;129;01mand\u001b[39;00m \u001b[38;5;28mlen\u001b[39m(uniques) \u001b[38;5;241m>\u001b[39m \u001b[38;5;241m0\u001b[39m:\n\u001b[1;32m    825\u001b[0m     \u001b[38;5;28;01mif\u001b[39;00m na_sentinel \u001b[38;5;129;01mis\u001b[39;00m \u001b[38;5;28;01mNone\u001b[39;00m:\n\u001b[1;32m    826\u001b[0m         \u001b[38;5;66;03m# TODO: Can remove when na_sentinel=na_sentinel as in TODO above\u001b[39;00m\n",
      "File \u001b[0;32m/opt/homebrew/Caskroom/miniforge/base/envs/dojo-env/lib/python3.9/site-packages/pandas/core/algorithms.py:574\u001b[0m, in \u001b[0;36mfactorize_array\u001b[0;34m(values, na_sentinel, size_hint, na_value, mask)\u001b[0m\n\u001b[1;32m    571\u001b[0m hash_klass, values \u001b[38;5;241m=\u001b[39m _get_hashtable_algo(values)\n\u001b[1;32m    573\u001b[0m table \u001b[38;5;241m=\u001b[39m hash_klass(size_hint \u001b[38;5;129;01mor\u001b[39;00m \u001b[38;5;28mlen\u001b[39m(values))\n\u001b[0;32m--> 574\u001b[0m uniques, codes \u001b[38;5;241m=\u001b[39m \u001b[43mtable\u001b[49m\u001b[38;5;241;43m.\u001b[39;49m\u001b[43mfactorize\u001b[49m\u001b[43m(\u001b[49m\n\u001b[1;32m    575\u001b[0m \u001b[43m    \u001b[49m\u001b[43mvalues\u001b[49m\u001b[43m,\u001b[49m\n\u001b[1;32m    576\u001b[0m \u001b[43m    \u001b[49m\u001b[43mna_sentinel\u001b[49m\u001b[38;5;241;43m=\u001b[39;49m\u001b[43mna_sentinel\u001b[49m\u001b[43m,\u001b[49m\n\u001b[1;32m    577\u001b[0m \u001b[43m    \u001b[49m\u001b[43mna_value\u001b[49m\u001b[38;5;241;43m=\u001b[39;49m\u001b[43mna_value\u001b[49m\u001b[43m,\u001b[49m\n\u001b[1;32m    578\u001b[0m \u001b[43m    \u001b[49m\u001b[43mmask\u001b[49m\u001b[38;5;241;43m=\u001b[39;49m\u001b[43mmask\u001b[49m\u001b[43m,\u001b[49m\n\u001b[1;32m    579\u001b[0m \u001b[43m    \u001b[49m\u001b[43mignore_na\u001b[49m\u001b[38;5;241;43m=\u001b[39;49m\u001b[43mignore_na\u001b[49m\u001b[43m,\u001b[49m\n\u001b[1;32m    580\u001b[0m \u001b[43m\u001b[49m\u001b[43m)\u001b[49m\n\u001b[1;32m    582\u001b[0m \u001b[38;5;66;03m# re-cast e.g. i8->dt64/td64, uint8->bool\u001b[39;00m\n\u001b[1;32m    583\u001b[0m uniques \u001b[38;5;241m=\u001b[39m _reconstruct_data(uniques, original\u001b[38;5;241m.\u001b[39mdtype, original)\n",
      "File \u001b[0;32mpandas/_libs/hashtable_class_helper.pxi:5943\u001b[0m, in \u001b[0;36mpandas._libs.hashtable.PyObjectHashTable.factorize\u001b[0;34m()\u001b[0m\n",
      "File \u001b[0;32mpandas/_libs/hashtable_class_helper.pxi:5857\u001b[0m, in \u001b[0;36mpandas._libs.hashtable.PyObjectHashTable._unique\u001b[0;34m()\u001b[0m\n",
      "\u001b[0;31mTypeError\u001b[0m: unhashable type: 'list'"
     ]
    }
   ],
   "source": [
    "# check for duplicate results\n",
    "final_df.duplicated().sum()"
   ]
  },
  {
   "cell_type": "code",
   "execution_count": 33,
   "id": "c4fdfc5c",
   "metadata": {},
   "outputs": [
    {
     "data": {
      "text/plain": [
       "22"
      ]
     },
     "execution_count": 33,
     "metadata": {},
     "output_type": "execute_result"
    }
   ],
   "source": [
    "# check for duplicate ID's \n",
    "final_df.duplicated(subset='id').sum()"
   ]
  },
  {
   "cell_type": "code",
   "execution_count": 34,
   "id": "c582ffd3",
   "metadata": {},
   "outputs": [
    {
     "data": {
      "text/plain": [
       "0"
      ]
     },
     "execution_count": 34,
     "metadata": {},
     "output_type": "execute_result"
    }
   ],
   "source": [
    "## Drop duplicate ids and confirm there are no more duplicates\n",
    "final_df = final_df.drop_duplicates(subset='id')\n",
    "final_df.duplicated(subset='id').sum()"
   ]
  },
  {
   "cell_type": "code",
   "execution_count": 35,
   "id": "fbb63f0d",
   "metadata": {},
   "outputs": [],
   "source": [
    "# save the final results to a compressed csv\n",
    "final_df.to_csv('Data/final_results_seattle_sushi.csv.gz', compression='gzip',index=False)"
   ]
  },
  {
   "cell_type": "code",
   "execution_count": null,
   "id": "8009bb91",
   "metadata": {},
   "outputs": [],
   "source": []
  }
 ],
 "metadata": {
  "kernelspec": {
   "display_name": "Python (dojo-env)",
   "language": "python",
   "name": "dojo-env"
  },
  "language_info": {
   "codemirror_mode": {
    "name": "ipython",
    "version": 3
   },
   "file_extension": ".py",
   "mimetype": "text/x-python",
   "name": "python",
   "nbconvert_exporter": "python",
   "pygments_lexer": "ipython3",
   "version": "3.9.15"
  },
  "toc": {
   "base_numbering": 1,
   "nav_menu": {},
   "number_sections": true,
   "sideBar": true,
   "skip_h1_title": false,
   "title_cell": "Table of Contents",
   "title_sidebar": "Contents",
   "toc_cell": false,
   "toc_position": {},
   "toc_section_display": true,
   "toc_window_display": false
  }
 },
 "nbformat": 4,
 "nbformat_minor": 5
}
